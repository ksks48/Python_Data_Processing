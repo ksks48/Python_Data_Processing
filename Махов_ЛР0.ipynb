{
 "cells": [
  {
   "cell_type": "code",
   "execution_count": 1,
   "id": "e42d2869",
   "metadata": {},
   "outputs": [
    {
     "data": {
      "text/plain": [
       "9"
      ]
     },
     "execution_count": 1,
     "metadata": {},
     "output_type": "execute_result"
    }
   ],
   "source": [
    "N = ord('D') % 10 + 1\n",
    "N"
   ]
  },
  {
   "cell_type": "markdown",
   "id": "8059dc69",
   "metadata": {},
   "source": [
    "# Чеська республіка\n",
    "\n",
    "|  Площа   | Населення|                Державний устрій               |\n",
    "|----------|----------|-----------------------------------------------|\n",
    "|78 866 км²|10 637 540|Унітарна конституційна парламентська республіка|\n",
    "\n",
    "**Видатні персоналії:**  \n",
    "* Карл IV (1316-78) - король Богемії, імператор Священної Римської імперії, головний покровитель Праги.\n",
    "\n",
    "* Грегор Йоганн Мендель (1822-1884) - батько генетики та законів спадковості.\n",
    "\n",
    "* Бедржих Сметана (1824-84) - націоналістичний композитор.\n",
    "\n",
    "* Антонін Дворжак (1841-1904) - неоромантичний композитор і голова Празької консерваторії.\n",
    "\n",
    "* Томаш Гарріг Масарик (1850-1937) - філософ, соціолог, політик і перший президент Чехословаччини.\n",
    "\n",
    "* Зигмунд Фрейд (1856-1939) - “батько психоаналізу”, народився в містечку Прібор, яке тоді було частиною Австро-Угорської імперії, а зараз знаходиться на північно-східній частині Чеської Республіки.\n",
    "\n",
    "* Франц Кафка (1883-1924) - відомий письменник, що народився в Празі. Його твори, такі як “Процес”, “Замок” та “Перетворення”, відомі своїм символічним і алегоричним зображенням модерністського людського стану.\n",
    "\n",
    "* Мілош Форман (1932-2018) - відомий режисер, який виграв дві премії “Оскар” за кращу режисуру за фільми “Пролітаючи над гніздом зозулі” та \"Амадей\".\n",
    "\n",
    "* Вацлав Гавел (1936-2011) - драматург, письменник, політичний діяч, громадський діяч, один з лідерів “Бархатної революції” 1989 року, президент Чехословаччини (1989-1992) та Чеської Республіки (1993-2003).\n",
    "\n",
    "<fieldset style=\"border: 2px solid green; padding: 10px;\">\n",
    "  <legend style=\"color: blue; font-style: italic;\">Пам'ятки культури та природи</legend>\n",
    "  <ul>\n",
    "    <li>Празький Град</li>\n",
    "    <li>Карлів міст</li>\n",
    "    <li>Старе Місто</li>\n",
    "    <li>Чеський Крумлов</li>\n",
    "    <li>Замок Карлштейн</li>\n",
    "    <li>Замок Конопіште</li>\n",
    "    <li>Замок Крживоклат</li>\n",
    "    <li>Замок Сихров</li>\n",
    "  </ul>\n",
    "</fieldset>\n",
    "\n",
    "![просто гарне місце](https://st.depositphotos.com/1000128/4981/i/950/depositphotos_49812897-stock-photo-bridges-of-prague-czech-republic.jpg)\n",
    "![Чехія](pic1.jpg)\n",
    "\n",
    "[Більше інформації про Чехію](https://uk.wikipedia.org/wiki/%D0%A7%D0%B5%D1%85%D1%96%D1%8F)\n"
   ]
  },
  {
   "cell_type": "code",
   "execution_count": 1,
   "id": "759a7aad",
   "metadata": {},
   "outputs": [
    {
     "data": {
      "text/html": [
       "<svg width=\"200\" height=\"150\" xmlns=\"http://www.w3.org/2000/svg\">\n",
       "  <rect x=\"0\" y=\"0\" width=\"200\" height=\"75\" fill=\"white\"/>\n",
       "  <rect x=\"0\" y=\"75\" width=\"200\" height=\"150\" fill=\"red\"/>\n",
       "  <polygon points=\"0,0 0,150 100,75\" fill=\"#0C356A\"/>\n",
       "</svg>\n"
      ],
      "text/plain": [
       "<IPython.core.display.HTML object>"
      ]
     },
     "metadata": {},
     "output_type": "display_data"
    }
   ],
   "source": [
    "%%HTML\n",
    "<svg width=\"200\" height=\"150\" xmlns=\"http://www.w3.org/2000/svg\">\n",
    "  <rect x=\"0\" y=\"0\" width=\"200\" height=\"75\" fill=\"white\"/>\n",
    "  <rect x=\"0\" y=\"75\" width=\"200\" height=\"150\" fill=\"red\"/>\n",
    "  <polygon points=\"0,0 0,150 100,75\" fill=\"#0C356A\"/>\n",
    "</svg>"
   ]
  },
  {
   "cell_type": "markdown",
   "id": "b1545d7d",
   "metadata": {},
   "source": [
    "## У введеному списку залишити тільки непрості числа і відсортувати їх за зменшенням\n",
    "\n",
    "### **Приклади:**\n",
    "\n",
    "**In [2] task_9()**\n",
    "\n",
    "3 12 15 7 11 35 18\n",
    "\n",
    "Out [2] [35, 18, 15, 12]\n",
    "\n",
    "**In [3] task_9()**\n",
    "\n",
    "0 34 2 1 15 22 4 23 6\n",
    "\n",
    "Out [3] [34, 22, 15, 6, 4]"
   ]
  },
  {
   "cell_type": "code",
   "execution_count": 25,
   "id": "dcb3cad7",
   "metadata": {},
   "outputs": [],
   "source": [
    "def task_9():\n",
    "    numbers = input(\"Введіть числа, розділені пробілами: \").split()\n",
    "    \n",
    "    try:\n",
    "        numbers = [int(num) for num in numbers]\n",
    "    except ValueError:\n",
    "        print(\"Помилка. У списку присутнє нечислове значення\")\n",
    "        return\n",
    "    \n",
    "    def is_prime(n):\n",
    "        if n < 2 or n == 1 or n == 0:\n",
    "            return True\n",
    "        for i in range(2, int(n**0.5) + 1):\n",
    "            if n % i == 0 :\n",
    "                return False\n",
    "        return True\n",
    "\n",
    "    non_prime_numbers = sorted([num for num in numbers if not is_prime(num)], reverse=True)\n",
    "    \n",
    "    print(non_prime_numbers)"
   ]
  },
  {
   "cell_type": "code",
   "execution_count": 27,
   "id": "f35b95fe",
   "metadata": {},
   "outputs": [
    {
     "name": "stdout",
     "output_type": "stream",
     "text": [
      "Введіть числа, розділені пробілами: 3 12 15 7 11 35 18\n",
      "[35, 18, 15, 12]\n"
     ]
    }
   ],
   "source": [
    "task_9()"
   ]
  },
  {
   "cell_type": "code",
   "execution_count": 28,
   "id": "10c54d68",
   "metadata": {},
   "outputs": [
    {
     "name": "stdout",
     "output_type": "stream",
     "text": [
      "Введіть числа, розділені пробілами: 0 34 2 1 15 22 4 23 6\n",
      "[34, 22, 15, 6, 4]\n"
     ]
    }
   ],
   "source": [
    "task_9()"
   ]
  },
  {
   "cell_type": "code",
   "execution_count": 30,
   "id": "4d0dd646",
   "metadata": {},
   "outputs": [
    {
     "name": "stdout",
     "output_type": "stream",
     "text": [
      "Введіть числа, розділені пробілами: 0 f 23 6\n",
      "Помилка. У списку присутнє нечислове значення\n"
     ]
    }
   ],
   "source": [
    "task_9()"
   ]
  }
 ],
 "metadata": {
  "kernelspec": {
   "display_name": "Python 3 (ipykernel)",
   "language": "python",
   "name": "python3"
  },
  "language_info": {
   "codemirror_mode": {
    "name": "ipython",
    "version": 3
   },
   "file_extension": ".py",
   "mimetype": "text/x-python",
   "name": "python",
   "nbconvert_exporter": "python",
   "pygments_lexer": "ipython3",
   "version": "3.11.2"
  }
 },
 "nbformat": 4,
 "nbformat_minor": 5
}
